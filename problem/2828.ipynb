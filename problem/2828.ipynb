{
 "cells": [
  {
   "cell_type": "code",
   "execution_count": 5,
   "metadata": {},
   "outputs": [
    {
     "name": "stdout",
     "output_type": "stream",
     "text": [
      "1 0\n",
      "1 3\n",
      "4 1\n",
      "4\n"
     ]
    }
   ],
   "source": [
    "import sys\n",
    "\n",
    "n,m=map(int,input().split())\n",
    "m-=1\n",
    "j=int(input())\n",
    "\n",
    "def cal_distance(cur,size,position):\n",
    "    if cur<=position<=cur+size:\n",
    "        return 0\n",
    "    else:\n",
    "        return min(abs(cur-position),abs(cur+size-position))\n",
    "    \n",
    "current=1\n",
    "ans=0\n",
    "\n",
    "for i in range(j):\n",
    "    apple=int(input())\n",
    "    temp=cal_distance(current,m,apple)\n",
    "    if apple>=current:\n",
    "        current+=temp\n",
    "        ans+=temp\n",
    "    else:\n",
    "        current-=temp\n",
    "        ans+=temp\n",
    "    \n",
    "print(ans)"
   ]
  }
 ],
 "metadata": {
  "kernelspec": {
   "display_name": "Python 3",
   "language": "python",
   "name": "python3"
  },
  "language_info": {
   "codemirror_mode": {
    "name": "ipython",
    "version": 3
   },
   "file_extension": ".py",
   "mimetype": "text/x-python",
   "name": "python",
   "nbconvert_exporter": "python",
   "pygments_lexer": "ipython3",
   "version": "3.11.2"
  },
  "orig_nbformat": 4
 },
 "nbformat": 4,
 "nbformat_minor": 2
}
