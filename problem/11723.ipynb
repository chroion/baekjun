{
 "cells": [
  {
   "cell_type": "code",
   "execution_count": null,
   "metadata": {},
   "outputs": [],
   "source": [
    "import sys\n",
    "\n",
    "class calcul():\n",
    "    def __init__(self):\n",
    "        self.arr=[0]*21\n",
    "        \n",
    "    def add(self,x):\n",
    "        if self.arr[x]==0:\n",
    "            self.arr[x]=1\n",
    "    \n",
    "    def remove(self,x):\n",
    "        if self.arr[x]==1:\n",
    "            self.arr[x]=0\n",
    "    \n",
    "    def check(self,x):\n",
    "        if self.arr[x]==1:\n",
    "            print(1)\n",
    "        else:\n",
    "            print(0)\n",
    "        \n",
    "    def toggle(self,x):\n",
    "        self.arr[x]=1 - self.arr[x]\n",
    "    \n",
    "    def all(self):\n",
    "        self.arr=[0]+[1]*20\n",
    "        \n",
    "    def empty(self):\n",
    "        self.arr=[0]*21\n",
    "        \n",
    "N=int(input())\n",
    "calculate=calcul()\n",
    "\n",
    "for i in range(N):\n",
    "    order=list(sys.stdin.readline().split())    \n",
    "    \n",
    "    if len(order)==1:\n",
    "        getattr(calculate, order[0])()\n",
    "    else:\n",
    "        getattr(calculate, order[0])(int(order[1]))\n"
   ]
  }
 ],
 "metadata": {
  "language_info": {
   "name": "python"
  },
  "orig_nbformat": 4
 },
 "nbformat": 4,
 "nbformat_minor": 2
}
