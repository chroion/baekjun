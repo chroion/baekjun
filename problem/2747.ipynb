{
 "cells": [
  {
   "cell_type": "code",
   "execution_count": 2,
   "metadata": {},
   "outputs": [
    {
     "name": "stdout",
     "output_type": "stream",
     "text": [
      "55\n"
     ]
    }
   ],
   "source": [
    "n=int(input())\n",
    "arr=[0]*(n+1)\n",
    "\n",
    "def pibonacci(num):\n",
    "    if num==0:\n",
    "        return 0\n",
    "    elif num==1 or num==2:\n",
    "        return 1\n",
    "    else:\n",
    "        if arr[num]==0:\n",
    "            ans=pibonacci(num-1)+pibonacci(num-2)\n",
    "            arr[num]=ans\n",
    "            return ans\n",
    "        else:\n",
    "            return arr[num]\n",
    "\n",
    "print(pibonacci(n))"
   ]
  },
  {
   "cell_type": "code",
   "execution_count": 1,
   "metadata": {},
   "outputs": [
    {
     "name": "stdout",
     "output_type": "stream",
     "text": [
      "55\n"
     ]
    }
   ],
   "source": [
    "n=int(input())\n",
    "arr=[0,1,1]\n",
    "\n",
    "for i in range(3,n+1):\n",
    "    arr.append(arr[i-1]+arr[i-2])\n",
    "    \n",
    "print(arr[-1])"
   ]
  }
 ],
 "metadata": {
  "kernelspec": {
   "display_name": "Python 3",
   "language": "python",
   "name": "python3"
  },
  "language_info": {
   "codemirror_mode": {
    "name": "ipython",
    "version": 3
   },
   "file_extension": ".py",
   "mimetype": "text/x-python",
   "name": "python",
   "nbconvert_exporter": "python",
   "pygments_lexer": "ipython3",
   "version": "3.11.2"
  },
  "orig_nbformat": 4
 },
 "nbformat": 4,
 "nbformat_minor": 2
}
