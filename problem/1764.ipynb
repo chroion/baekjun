{
 "cells": [
  {
   "cell_type": "code",
   "execution_count": 9,
   "metadata": {},
   "outputs": [
    {
     "name": "stdout",
     "output_type": "stream",
     "text": [
      "2\n",
      "baesangwook\n",
      "ohhenrie\n"
     ]
    }
   ],
   "source": [
    "import sys\n",
    "\"\"\"sys.stdin=open('C:/test.txt', 'r')\"\"\"\n",
    "m,n=map(int,input().split())\n",
    "not_heard={}\n",
    "ans=[]\n",
    "\n",
    "for _ in range(m):\n",
    "    temp=sys.stdin.readline().split()[0]\n",
    "    not_heard[temp]=1\n",
    "    \n",
    "for _ in range(n):\n",
    "    temp=sys.stdin.readline().split()[0]\n",
    "    if temp in not_heard:\n",
    "        ans.append(temp)\n",
    "        \n",
    "print(len(ans))\n",
    "for i in sorted(ans):\n",
    "    print(i)"
   ]
  }
 ],
 "metadata": {
  "kernelspec": {
   "display_name": "Python 3",
   "language": "python",
   "name": "python3"
  },
  "language_info": {
   "codemirror_mode": {
    "name": "ipython",
    "version": 3
   },
   "file_extension": ".py",
   "mimetype": "text/x-python",
   "name": "python",
   "nbconvert_exporter": "python",
   "pygments_lexer": "ipython3",
   "version": "3.11.2"
  },
  "orig_nbformat": 4
 },
 "nbformat": 4,
 "nbformat_minor": 2
}
