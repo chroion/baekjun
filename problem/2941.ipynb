{
 "cells": [
  {
   "cell_type": "code",
   "execution_count": null,
   "metadata": {},
   "outputs": [],
   "source": [
    "word=input()\n",
    "croatia=[\"c=\",\"c-\",\"d-\",\"lj\",\"nj\",\"s=\",\"z=\",\"dz=\"]\n",
    "ans=len(word)\n",
    "temp=0\n",
    "\n",
    "for i in range(len(word)-1):\n",
    "    if word[i]+word[i+1] in croatia[:-1] and temp==0:\n",
    "        temp=0\n",
    "        ans-=1\n",
    "    \n",
    "    elif word[i]+word[i+1] in croatia[:-1] and temp==1:\n",
    "        temp=0\n",
    "        \n",
    "    elif i<=len(word)-3 and word[i]+word[i+1]+word[i+2]==croatia[-1]:\n",
    "        temp=1\n",
    "        i=i+2\n",
    "        ans-=2\n",
    "        \n",
    "print(ans)"
   ]
  }
 ],
 "metadata": {
  "language_info": {
   "name": "python"
  },
  "orig_nbformat": 4
 },
 "nbformat": 4,
 "nbformat_minor": 2
}
