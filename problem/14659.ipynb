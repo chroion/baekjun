{
 "cells": [
  {
   "cell_type": "code",
   "execution_count": 22,
   "metadata": {},
   "outputs": [
    {
     "name": "stdout",
     "output_type": "stream",
     "text": [
      "4\n"
     ]
    }
   ],
   "source": [
    "n=int(input())\n",
    "archers=list(map(int,input().split()))\n",
    "mem=[0]*n\n",
    "i=0\n",
    "j=1\n",
    "while i<n-1: \n",
    "    if i+j<n and archers[i]>archers[i+j]: \n",
    "        mem[i]=j\n",
    "        j+=1\n",
    "    else:\n",
    "        i=max(i,i+j)\n",
    "        j=1\n",
    "print(max(mem))"
   ]
  }
 ],
 "metadata": {
  "kernelspec": {
   "display_name": "Python 3",
   "language": "python",
   "name": "python3"
  },
  "language_info": {
   "codemirror_mode": {
    "name": "ipython",
    "version": 3
   },
   "file_extension": ".py",
   "mimetype": "text/x-python",
   "name": "python",
   "nbconvert_exporter": "python",
   "pygments_lexer": "ipython3",
   "version": "3.11.2"
  },
  "orig_nbformat": 4
 },
 "nbformat": 4,
 "nbformat_minor": 2
}
