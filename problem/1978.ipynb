{
 "cells": [
  {
   "cell_type": "code",
   "execution_count": 15,
   "metadata": {},
   "outputs": [
    {
     "name": "stdout",
     "output_type": "stream",
     "text": [
      "4\n"
     ]
    }
   ],
   "source": [
    "n = int(input())\n",
    "arr = list(map(int, input().split()))\n",
    "\n",
    "is_prime = [True] * (max(arr) + 1)\n",
    "is_prime[0] = is_prime[1] = False\n",
    "\n",
    "for i in range(2, int(max(arr)**0.5)+1):\n",
    "    if is_prime[i]:\n",
    "        for j in range(i*i, max(arr)+1, i):\n",
    "            is_prime[j] = False\n",
    "            \n",
    "count = 0\n",
    "\n",
    "for num in arr:\n",
    "    if is_prime[num]:\n",
    "        count += 1\n",
    "        \n",
    "print(count)\n"
   ]
  }
 ],
 "metadata": {
  "kernelspec": {
   "display_name": "Python 3",
   "language": "python",
   "name": "python3"
  },
  "language_info": {
   "codemirror_mode": {
    "name": "ipython",
    "version": 3
   },
   "file_extension": ".py",
   "mimetype": "text/x-python",
   "name": "python",
   "nbconvert_exporter": "python",
   "pygments_lexer": "ipython3",
   "version": "3.11.2"
  },
  "orig_nbformat": 4
 },
 "nbformat": 4,
 "nbformat_minor": 2
}
