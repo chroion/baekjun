{
 "cells": [
  {
   "cell_type": "code",
   "execution_count": 16,
   "metadata": {},
   "outputs": [
    {
     "name": "stdout",
     "output_type": "stream",
     "text": [
      "1\n",
      "1\n",
      "0\n",
      "0\n",
      "1\n",
      "1\n",
      "1\n",
      "0\n",
      "0\n",
      "1\n"
     ]
    }
   ],
   "source": [
    "import sys\n",
    "\n",
    "t = int(sys.stdin.readline().split()[0])\n",
    "\n",
    "for _ in range(t):\n",
    "    n = int(sys.stdin.readline().split()[0])\n",
    "    diary1 = set(map(int, sys.stdin.readline().split()))\n",
    "    m = int(sys.stdin.readline().split()[0])\n",
    "    diary2 = list(map(int, sys.stdin.readline().split()))\n",
    "\n",
    "    for j in diary2:\n",
    "        if j in diary1:\n",
    "            print(1)\n",
    "        else:\n",
    "            print(0)\n"
   ]
  },
  {
   "cell_type": "code",
   "execution_count": 21,
   "metadata": {},
   "outputs": [
    {
     "name": "stdout",
     "output_type": "stream",
     "text": [
      "1\n",
      "1\n",
      "0\n",
      "0\n",
      "1\n"
     ]
    }
   ],
   "source": [
    "import sys, bisect\n",
    "\n",
    "sys.stdin=open(\"C:/test.txt\",\"r\")\n",
    "\n",
    "t = int(sys.stdin.readline().split()[0])\n",
    "\n",
    "for _ in range(t):\n",
    "    n = int(sys.stdin.readline().split()[0])\n",
    "    diary1 = sorted(set(map(int, sys.stdin.readline().split())))\n",
    "    m = int(sys.stdin.readline().split()[0])\n",
    "    diary2 = list(map(int, sys.stdin.readline().split()))\n",
    "    \n",
    "    for i in diary2:\n",
    "        index=bisect.bisect_left(diary1, i)\n",
    "        \n",
    "        if index<len(diary1) and diary1[index]==i:\n",
    "            print(1)\n",
    "        else:\n",
    "            print(0)"
   ]
  }
 ],
 "metadata": {
  "kernelspec": {
   "display_name": "Python 3",
   "language": "python",
   "name": "python3"
  },
  "language_info": {
   "codemirror_mode": {
    "name": "ipython",
    "version": 3
   },
   "file_extension": ".py",
   "mimetype": "text/x-python",
   "name": "python",
   "nbconvert_exporter": "python",
   "pygments_lexer": "ipython3",
   "version": "3.11.2"
  },
  "orig_nbformat": 4
 },
 "nbformat": 4,
 "nbformat_minor": 2
}
