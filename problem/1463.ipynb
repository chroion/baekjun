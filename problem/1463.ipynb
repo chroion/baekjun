{
 "cells": [
  {
   "cell_type": "code",
   "execution_count": 17,
   "metadata": {},
   "outputs": [
    {
     "name": "stdout",
     "output_type": "stream",
     "text": [
      "3\n"
     ]
    }
   ],
   "source": [
    "n=int(input())\n",
    "d=[0]*(n+1)\n",
    "\n",
    "for i in range(2,n+1):\n",
    "    d[i]=d[i-1]+1\n",
    "    \n",
    "    if i%2==0 and d[i]>d[i//2]+1:\n",
    "        d[i]=d[i//2]+1\n",
    "        \n",
    "    if i%3==0 and d[i]>d[i//3]+1:\n",
    "        d[i]=d[i//3]+1\n",
    "    \n",
    "print(d[n])"
   ]
  }
 ],
 "metadata": {
  "kernelspec": {
   "display_name": "Python 3",
   "language": "python",
   "name": "python3"
  },
  "language_info": {
   "codemirror_mode": {
    "name": "ipython",
    "version": 3
   },
   "file_extension": ".py",
   "mimetype": "text/x-python",
   "name": "python",
   "nbconvert_exporter": "python",
   "pygments_lexer": "ipython3",
   "version": "3.11.2"
  },
  "orig_nbformat": 4
 },
 "nbformat": 4,
 "nbformat_minor": 2
}
