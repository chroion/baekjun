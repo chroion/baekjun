{
 "cells": [
  {
   "cell_type": "code",
   "execution_count": 23,
   "metadata": {},
   "outputs": [
    {
     "name": "stdout",
     "output_type": "stream",
     "text": [
      "3 0 0 1 2 0 0 2\n"
     ]
    }
   ],
   "source": [
    "import sys, bisect\n",
    "\n",
    "sys.stdin=open(\"c:/test.txt\",\"r\")\n",
    "\n",
    "n=int(sys.stdin.readline().strip())\n",
    "arr1=sorted(list(map(int,sys.stdin.readline().split())))\n",
    "m=int(sys.stdin.readline().strip())\n",
    "arr2=list(map(int,sys.stdin.readline().split()))\n",
    "ans=[]\n",
    "\n",
    "for i in range(len(arr2)):\n",
    "    index1=bisect.bisect_left(arr1,arr2[i])\n",
    "    index2=bisect.bisect_right(arr1,arr2[i])\n",
    "    ans.append(index2-index1)\n",
    "    \n",
    "print(\" \".join(map(str, ans)))"
   ]
  }
 ],
 "metadata": {
  "kernelspec": {
   "display_name": "Python 3",
   "language": "python",
   "name": "python3"
  },
  "language_info": {
   "codemirror_mode": {
    "name": "ipython",
    "version": 3
   },
   "file_extension": ".py",
   "mimetype": "text/x-python",
   "name": "python",
   "nbconvert_exporter": "python",
   "pygments_lexer": "ipython3",
   "version": "3.11.2"
  },
  "orig_nbformat": 4
 },
 "nbformat": 4,
 "nbformat_minor": 2
}
