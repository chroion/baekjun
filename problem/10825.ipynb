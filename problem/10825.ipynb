{
 "cells": [
  {
   "cell_type": "code",
   "execution_count": 3,
   "metadata": {},
   "outputs": [],
   "source": [
    "import sys\n",
    "\n",
    "N=int(sys.stdin.readline())\n",
    "arr=[]\n",
    "\n",
    "for i in range(N):\n",
    "    arr.append(list(map(str,sys.stdin.readline().strip().split())))\n",
    "\n",
    "arr.sort(key=lambda x:x[0],reverse=False)\n",
    "arr.sort(key=lambda x:int(x[3]),reverse=True)\n",
    "arr.sort(key=lambda x:int(x[2]),reverse=False)\n",
    "arr.sort(key=lambda x:int(x[1]),reverse=True)\n",
    "    \n",
    "for a,b,c,d in arr:\n",
    "    print(a)"
   ]
  },
  {
   "cell_type": "code",
   "execution_count": null,
   "metadata": {},
   "outputs": [],
   "source": []
  }
 ],
 "metadata": {
  "kernelspec": {
   "display_name": "Python 3",
   "language": "python",
   "name": "python3"
  },
  "language_info": {
   "codemirror_mode": {
    "name": "ipython",
    "version": 3
   },
   "file_extension": ".py",
   "mimetype": "text/x-python",
   "name": "python",
   "nbconvert_exporter": "python",
   "pygments_lexer": "ipython3",
   "version": "3.11.2"
  },
  "orig_nbformat": 4
 },
 "nbformat": 4,
 "nbformat_minor": 2
}
