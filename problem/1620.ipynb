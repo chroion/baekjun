{
 "cells": [
  {
   "cell_type": "code",
   "execution_count": 7,
   "metadata": {},
   "outputs": [
    {
     "name": "stdout",
     "output_type": "stream",
     "text": [
      "Pikachu\n",
      "26\n",
      "Venusaur\n",
      "16\n",
      "14\n"
     ]
    }
   ],
   "source": [
    "import sys\n",
    "\"\"\"sys.stdin=open('C:/test.txt', 'r')\"\"\"\n",
    "n,m=map(int,input().split())\n",
    "pokemon={}\n",
    "\n",
    "for i in range(1,n+1):\n",
    "    temp=sys.stdin.readline().split()[0]\n",
    "    pokemon[str(i)]=temp\n",
    "    pokemon[temp]=i\n",
    "\n",
    "for i in range(m):\n",
    "    temp=sys.stdin.readline().split()[0]\n",
    "    print(pokemon[temp])"
   ]
  }
 ],
 "metadata": {
  "kernelspec": {
   "display_name": "Python 3",
   "language": "python",
   "name": "python3"
  },
  "language_info": {
   "codemirror_mode": {
    "name": "ipython",
    "version": 3
   },
   "file_extension": ".py",
   "mimetype": "text/x-python",
   "name": "python",
   "nbconvert_exporter": "python",
   "pygments_lexer": "ipython3",
   "version": "3.11.2"
  },
  "orig_nbformat": 4
 },
 "nbformat": 4,
 "nbformat_minor": 2
}
