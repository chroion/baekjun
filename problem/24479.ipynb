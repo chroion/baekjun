{
 "cells": [
  {
   "cell_type": "code",
   "execution_count": null,
   "metadata": {},
   "outputs": [],
   "source": [
    "import sys\n",
    "\n",
    "N,M,R=map(int,sys.stdin.readline().split())\n",
    "graph=[[] for _ in range(N+1)]\n",
    "visited=[False for _ in range(N+1)]\n",
    "\n",
    "for _ in range(M):\n",
    "    u,v=map(int,sys.stdin.readline().split())\n",
    "    graph[u].append(v)\n",
    "    graph[v].append(u)\n",
    "\n",
    "def dfs(u):\n",
    "    visited[u]=True\n",
    "    for neighbor in graph[u]:\n",
    "        if not visited[neighbor]:\n",
    "            print(u)\n",
    "            dfs(neighbor)\n",
    "\n",
    "dfs(graph, visited, R)            \n",
    "\n",
    "for i in range(1, N+1):\n",
    "    if not visited[i]:\n",
    "        print(0)"
   ]
  }
 ],
 "metadata": {
  "language_info": {
   "name": "python"
  },
  "orig_nbformat": 4
 },
 "nbformat": 4,
 "nbformat_minor": 2
}
