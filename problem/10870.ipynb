{
 "cells": [
  {
   "cell_type": "code",
   "execution_count": 4,
   "metadata": {},
   "outputs": [
    {
     "name": "stdout",
     "output_type": "stream",
     "text": [
      "610\n"
     ]
    }
   ],
   "source": [
    "n=int(input())\n",
    "arr=[0]*(n+1)\n",
    "\n",
    "def pibonacci(num):\n",
    "    if num==0:\n",
    "        return 0\n",
    "    elif num==1 or num==2:\n",
    "        return 1\n",
    "    else:\n",
    "        if arr[num]==0:\n",
    "            ans=pibonacci(num-1)+pibonacci(num-2)\n",
    "            arr[num]=ans\n",
    "            return ans\n",
    "        else:\n",
    "            return arr[num]\n",
    "\n",
    "print(pibonacci(n))"
   ]
  }
 ],
 "metadata": {
  "kernelspec": {
   "display_name": "Python 3",
   "language": "python",
   "name": "python3"
  },
  "language_info": {
   "codemirror_mode": {
    "name": "ipython",
    "version": 3
   },
   "file_extension": ".py",
   "mimetype": "text/x-python",
   "name": "python",
   "nbconvert_exporter": "python",
   "pygments_lexer": "ipython3",
   "version": "3.11.2"
  },
  "orig_nbformat": 4
 },
 "nbformat": 4,
 "nbformat_minor": 2
}
