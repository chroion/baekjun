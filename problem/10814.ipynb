{
 "cells": [
  {
   "cell_type": "code",
   "execution_count": null,
   "metadata": {},
   "outputs": [],
   "source": [
    "import sys\n",
    "\n",
    "N=int(sys.stdin.readline())\n",
    "arr=[]\n",
    "\n",
    "for i in range(N):\n",
    "    arr.append(list(map(str,sys.stdin.readline().strip().split())))\n",
    "\n",
    "arr.sort(key=lambda x:int(x[0]))\n",
    "    \n",
    "for a,b in arr:\n",
    "    print(int(a),b)"
   ]
  }
 ],
 "metadata": {
  "language_info": {
   "name": "python"
  },
  "orig_nbformat": 4
 },
 "nbformat": 4,
 "nbformat_minor": 2
}
