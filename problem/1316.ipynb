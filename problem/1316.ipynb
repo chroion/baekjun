{
 "cells": [
  {
   "cell_type": "code",
   "execution_count": null,
   "metadata": {},
   "outputs": [],
   "source": [
    "N=int(input())\n",
    "count=N\n",
    "\n",
    "for i in range(N):\n",
    "    word=input()\n",
    "    arr=[]\n",
    "    \n",
    "    for j in range(len(word)):\n",
    "        if word[j] not in arr:\n",
    "            arr.append(word[j])\n",
    "        elif word[j] in arr and word[j-1]==word[j]:\n",
    "            continue\n",
    "        else:\n",
    "            count-=1\n",
    "            break\n",
    "        \n",
    "print(count)"
   ]
  }
 ],
 "metadata": {
  "language_info": {
   "name": "python"
  },
  "orig_nbformat": 4
 },
 "nbformat": 4,
 "nbformat_minor": 2
}
