{
 "cells": [
  {
   "cell_type": "code",
   "execution_count": 41,
   "metadata": {},
   "outputs": [
    {
     "name": "stdout",
     "output_type": "stream",
     "text": [
      "2\n",
      "3\n",
      "5\n",
      "7\n"
     ]
    }
   ],
   "source": [
    "m, n = map(int, input().split())\n",
    "\n",
    "is_prime = [True] * (n+1)\n",
    "for i in range(2, int(n**0.5)+1):\n",
    "    if is_prime[i]:\n",
    "        for j in range(i*i, n+1, i):\n",
    "            is_prime[j] = False\n",
    "\n",
    "for num in range(max(2, m), n+1):\n",
    "    if is_prime[num]:\n",
    "        print(num)"
   ]
  }
 ],
 "metadata": {
  "kernelspec": {
   "display_name": "Python 3",
   "language": "python",
   "name": "python3"
  },
  "language_info": {
   "codemirror_mode": {
    "name": "ipython",
    "version": 3
   },
   "file_extension": ".py",
   "mimetype": "text/x-python",
   "name": "python",
   "nbconvert_exporter": "python",
   "pygments_lexer": "ipython3",
   "version": "3.11.2"
  },
  "orig_nbformat": 4
 },
 "nbformat": 4,
 "nbformat_minor": 2
}
