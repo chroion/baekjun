{
 "cells": [
  {
   "cell_type": "code",
   "execution_count": 31,
   "metadata": {},
   "outputs": [
    {
     "name": "stdout",
     "output_type": "stream",
     "text": [
      "21 52479\n"
     ]
    }
   ],
   "source": [
    "m,n=(map(int,input().split()))\n",
    "m,n=max(m,n),min(m,n)\n",
    "\n",
    "def euclidean(a, b):\n",
    "    c = a % b\n",
    "    if c == 0:\n",
    "        return b\n",
    "    else:\n",
    "        return euclidean(b, c)\n",
    "    \n",
    "gcd=euclidean(m,n)\n",
    "lcm=m*n/gcd\n",
    "\n",
    "print(gcd)\n",
    "print(int(lcm))"
   ]
  }
 ],
 "metadata": {
  "kernelspec": {
   "display_name": "Python 3",
   "language": "python",
   "name": "python3"
  },
  "language_info": {
   "codemirror_mode": {
    "name": "ipython",
    "version": 3
   },
   "file_extension": ".py",
   "mimetype": "text/x-python",
   "name": "python",
   "nbconvert_exporter": "python",
   "pygments_lexer": "ipython3",
   "version": "3.11.2"
  },
  "orig_nbformat": 4
 },
 "nbformat": 4,
 "nbformat_minor": 2
}
