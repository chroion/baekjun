{
 "cells": [
  {
   "cell_type": "code",
   "execution_count": 5,
   "metadata": {},
   "outputs": [
    {
     "name": "stdout",
     "output_type": "stream",
     "text": [
      "20\n"
     ]
    }
   ],
   "source": [
    "import sys\n",
    "\n",
    "n=int(input())\n",
    "stairs=[0]\n",
    "\n",
    "for i in range(0,n):\n",
    "    stairs.append(int(input()))\n",
    "\n",
    "if n>3:\n",
    "    mem=[0]*(n+1)\n",
    "    mem[1]=stairs[1]\n",
    "    mem[2]=stairs[1]+stairs[2]\n",
    "    mem[3]=max(stairs[1]+stairs[3],stairs[2]+stairs[3])\n",
    "    \n",
    "    for i in range(4,n+1):\n",
    "        mem[i]=max(mem[i-2],mem[i-3]+stairs[i-1])+stairs[i]\n",
    "    \n",
    "    print(mem[n])\n",
    "\n",
    "elif n==1:\n",
    "    print(stairs[1])\n",
    "    \n",
    "elif n==2:\n",
    "    print(stairs[1]+stairs[2])\n",
    "    \n",
    "else:\n",
    "    print(max(stairs[1]+stairs[3],stairs[2]+stairs[3]))"
   ]
  }
 ],
 "metadata": {
  "kernelspec": {
   "display_name": "Python 3",
   "language": "python",
   "name": "python3"
  },
  "language_info": {
   "codemirror_mode": {
    "name": "ipython",
    "version": 3
   },
   "file_extension": ".py",
   "mimetype": "text/x-python",
   "name": "python",
   "nbconvert_exporter": "python",
   "pygments_lexer": "ipython3",
   "version": "3.11.2"
  },
  "orig_nbformat": 4
 },
 "nbformat": 4,
 "nbformat_minor": 2
}
