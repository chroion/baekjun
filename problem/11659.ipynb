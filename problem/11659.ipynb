{
 "cells": [
  {
   "cell_type": "code",
   "execution_count": 13,
   "metadata": {},
   "outputs": [
    {
     "name": "stdout",
     "output_type": "stream",
     "text": [
      "12\n",
      "9\n",
      "1\n"
     ]
    }
   ],
   "source": [
    "import sys\n",
    "\n",
    "N,M=map(int,sys.stdin.readline().strip().split())\n",
    "arr=list(map(int,sys.stdin.readline().strip().split()))\n",
    "mem=[]\n",
    "\n",
    "for i in range(len(arr)):\n",
    "    if i==0:\n",
    "        mem.append(arr[i])\n",
    "    else:\n",
    "        mem.append(mem[i-1]+arr[i])\n",
    "    \n",
    "for i in range(M):\n",
    "    a,b=map(int,sys.stdin.readline().strip().split())\n",
    "    if a==1:\n",
    "        print(mem[b-1])\n",
    "    else:\n",
    "        print(mem[b-1]-mem[a-2])"
   ]
  }
 ],
 "metadata": {
  "kernelspec": {
   "display_name": "Python 3",
   "language": "python",
   "name": "python3"
  },
  "language_info": {
   "codemirror_mode": {
    "name": "ipython",
    "version": 3
   },
   "file_extension": ".py",
   "mimetype": "text/x-python",
   "name": "python",
   "nbconvert_exporter": "python",
   "pygments_lexer": "ipython3",
   "version": "3.11.2"
  },
  "orig_nbformat": 4
 },
 "nbformat": 4,
 "nbformat_minor": 2
}
