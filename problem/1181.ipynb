{
 "cells": [
  {
   "cell_type": "code",
   "execution_count": null,
   "metadata": {},
   "outputs": [],
   "source": [
    "N=int(input())\n",
    "word_list=[]\n",
    "\n",
    "for i in range(N):\n",
    "    word=input()\n",
    "    word_list.append((word,len(word)))\n",
    "\n",
    "word_list = list(set(word_list))\n",
    "word_list.sort(key = lambda x: (x[1], x[0])) \n",
    "\n",
    "for word in word_list:\n",
    "    print(word[0])"
   ]
  }
 ],
 "metadata": {
  "language_info": {
   "name": "python"
  },
  "orig_nbformat": 4
 },
 "nbformat": 4,
 "nbformat_minor": 2
}
